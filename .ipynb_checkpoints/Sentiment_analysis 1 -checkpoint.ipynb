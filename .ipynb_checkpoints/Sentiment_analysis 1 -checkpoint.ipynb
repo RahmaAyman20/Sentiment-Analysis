{
 "cells": [
  {
   "cell_type": "markdown",
   "id": "502bd47a",
   "metadata": {},
   "source": [
    "\n",
    "<img style = \"width:100%; height: 80%;\" src = \"https://s01.sgp1.cdn.digitaloceanspaces.com/article/107360-byxhzxvmlb-1544009839.jpg\" />\n",
    "<body bgcolor = \"black\">\n",
    "<img style=\"width:80px; height:80px;float:left;\" src = \"https://i.pinimg.com/originals/90/c6/69/90c6698dc6f9e00bb32ffb3e21042474.gif\" /><img style=\"width:80px; height:80px;float:right;\" src = \"https://acegif.com/wp-content/gif/laughing-emoji-3.gif\" /><center><img style=\"width:auto; height:auto;\" src = \"https://raw.githubusercontent.com/AlikMon88/FillerStack-repo/ebb777f8f116d4a79e69c67705179b641328ed42/extra/transformers.gif\" /></center> \n",
    "</body>"
   ]
  },
  {
   "cell_type": "markdown",
   "id": "0bf2d9c2",
   "metadata": {},
   "source": [
    "## <font color='#3f51b5'>1.Import Libraries </font> "
   ]
  },
  {
   "cell_type": "code",
   "execution_count": 15,
   "id": "c19558b4",
   "metadata": {},
   "outputs": [],
   "source": [
    "from string import punctuation\n",
    "from nltk.tokenize import word_tokenize\n",
    "from nltk.corpus import stopwords\n",
    "from nltk.stem import PorterStemmer\n",
    "from nltk.stem import SnowballStemmer\n",
    "from nltk.stem import WordNetLemmatizer\n",
    "######\n",
    "from sklearn.feature_extraction.text import CountVectorizer\n",
    "from sklearn.feature_extraction.text import TfidfVectorizer\n",
    "import pandas as pd \n",
    "import matplotlib.pyplot as plt\n",
    "from sklearn.naive_bayes import MultinomialNB\n",
    "from sklearn.metrics import precision_score, recall_score, accuracy_score,confusion_matrix,classification_report\n",
    "from sklearn.ensemble import RandomForestClassifier\n",
    "from sklearn import tree\n",
    "import numpy as np"
   ]
  },
  {
   "cell_type": "code",
   "execution_count": 6,
   "id": "e35f768b",
   "metadata": {},
   "outputs": [],
   "source": [
    "import warnings\n",
    "warnings.filterwarnings('ignore')"
   ]
  },
  {
   "cell_type": "markdown",
   "id": "5c4ec5ed",
   "metadata": {},
   "source": [
    "## <font color='#3f51b5'>2.Data Loading For Traning </font> "
   ]
  },
  {
   "cell_type": "code",
   "execution_count": 7,
   "id": "19a367e2",
   "metadata": {},
   "outputs": [
    {
     "name": "stdout",
     "output_type": "stream",
     "text": [
      "['i didnt feel humiliated', 'i can go from feeling so hopeless to so damned hopeful just from being around someone who cares and is awake', 'im grabbing a minute to post i feel greedy wrong', 'i am ever feeling nostalgic about the fireplace i will know that it is still on the property', 'i am feeling grouchy', 'ive been feeling a little burdened lately wasnt sure why that was', 'ive been taking or milligrams or times recommended amount and ive fallen asleep a lot faster but i also feel like so funny', 'i feel as confused about life as a teenager or as jaded as a year old man', 'i have been with petronas for years i feel that petronas has performed well and made a huge profit', 'i feel romantic too']\n",
      "**************************************************\n",
      "['sadness', 'sadness', 'anger', 'love', 'anger', 'sadness', 'surprise', 'fear', 'joy', 'love']\n"
     ]
    }
   ],
   "source": [
    "file=open('train.txt','r')\n",
    "x_train=[]\n",
    "y_train=[]\n",
    "for line in file: \n",
    "    l=line.split(';')\n",
    "    x_train.append(l[0])\n",
    "    y_train.append(l[1].strip())\n",
    "print(x_train[0:10])\n",
    "print(50*'*')\n",
    "print(y_train[0:10])\n"
   ]
  },
  {
   "cell_type": "markdown",
   "id": "4a73ba41",
   "metadata": {},
   "source": [
    "## <font color='#3f51b5'>3. Data Loading For Testing </font> "
   ]
  },
  {
   "cell_type": "code",
   "execution_count": 8,
   "id": "a257aa3f",
   "metadata": {},
   "outputs": [
    {
     "name": "stdout",
     "output_type": "stream",
     "text": [
      "['sadness', 'sadness', 'sadness', 'joy', 'sadness', 'fear', 'anger', 'joy', 'joy', 'anger']\n",
      "**************************************************\n",
      "['im feeling rather rotten so im not very ambitious right now', 'im updating my blog because i feel shitty', 'i never make her separate from me because i don t ever want her to feel like i m ashamed with her', 'i left with my bouquet of red and yellow tulips under my arm feeling slightly more optimistic than when i arrived', 'i was feeling a little vain when i did this one', 'i cant walk into a shop anywhere where i do not feel uncomfortable', 'i felt anger when at the end of a telephone call', 'i explain why i clung to a relationship with a boy who was in many ways immature and uncommitted despite the excitement i should have been feeling for getting accepted into the masters program at the university of virginia', 'i like to have the same breathless feeling as a reader eager to see what will happen next', 'i jest i feel grumpy tired and pre menstrual which i probably am but then again its only been a week and im about as fit as a walrus on vacation for the summer']\n"
     ]
    }
   ],
   "source": [
    "file=open('test.txt','r')\n",
    "x_test=[]\n",
    "y_test=[]\n",
    "for line in file: \n",
    "    l=line.split(';')\n",
    "    x_test.append(l[0])\n",
    "    y_test.append(l[1].strip())\n",
    "print(y_test[0:10])\n",
    "print(50*'*')\n",
    "print(x_test[0:10])"
   ]
  },
  {
   "cell_type": "code",
   "execution_count": 9,
   "id": "c65b9f26",
   "metadata": {},
   "outputs": [],
   "source": [
    "x_data = x_train + x_test\n",
    "y_data = y_train + y_test"
   ]
  },
  {
   "cell_type": "code",
   "execution_count": 14,
   "id": "f5ce4972",
   "metadata": {},
   "outputs": [
    {
     "data": {
      "text/plain": [
       "(20000, 1)"
      ]
     },
     "execution_count": 14,
     "metadata": {},
     "output_type": "execute_result"
    }
   ],
   "source": [
    "\n",
    "\n",
    "x_traindata = np.array(x_data)\n",
    "df = pd.DataFrame(x_traindata)\n",
    "df.shape"
   ]
  },
  {
   "cell_type": "code",
   "execution_count": 18,
   "id": "0c1bf5ee",
   "metadata": {},
   "outputs": [
    {
     "data": {
      "image/png": "[encoded data removed]",
      "text/plain": [
       "<Figure size 1400x800 with 1 Axes>"
      ]
     },
     "metadata": {},
     "output_type": "display_data"
    }
   ],
   "source": [
    "df = pd.DataFrame({'Sentiment': y_data})\n",
    "# Plot the pie chart\n",
    "plt.figure(figsize=(14,8))\n",
    "df['Sentiment'].value_counts().plot(kind = 'bar')\n",
    "plt.show()"
   ]
  },
  {
   "cell_type": "code",
   "execution_count": 19,
   "id": "511254e8",
   "metadata": {},
   "outputs": [
    {
     "name": "stdout",
     "output_type": "stream",
     "text": [
      "Original dataset shape Counter({'joy': 6761, 'sadness': 5797, 'anger': 2709, 'fear': 2373, 'love': 1641, 'surprise': 719})\n",
      "After undersample dataset shape Counter({'sadness': 6761, 'anger': 6761, 'love': 6761, 'surprise': 6761, 'fear': 6761, 'joy': 6761})\n"
     ]
    }
   ],
   "source": [
    "import imblearn\n",
    "from collections import Counter\n",
    "import numpy as np\n",
    "x_data=np.array(x_data)\n",
    "from imblearn.over_sampling import RandomOverSampler \n",
    "ROS = RandomOverSampler()\n",
    "print('Original dataset shape %s' % Counter(y_data))\n",
    "x_data, y_data = ROS.fit_resample(x_data.reshape(-1,1),y_data)\n",
    "print('After undersample dataset shape %s' % Counter(y_data))"
   ]
  },
  {
   "cell_type": "markdown",
   "id": "a6e4549e",
   "metadata": {},
   "source": [
    "## <font color='#3f51b5'>4. Preprocessing </font> "
   ]
  },
  {
   "cell_type": "code",
   "execution_count": 20,
   "id": "207bf700",
   "metadata": {},
   "outputs": [],
   "source": [
    "class Preprocessing:\n",
    "    def __init__(self, data):\n",
    "        self.txt = data\n",
    "#*************************************#\n",
    "    def remove_punctuation(self):\n",
    "        punc = list(punctuation)\n",
    "        remove_pun = [''.join(char for char in sentence if char not in punc) for sentence in self.txt]\n",
    "        self.txt = remove_pun\n",
    "        #print(self.txt)\n",
    "#*************************************#  \n",
    "    def Word_Tokenization(self):\n",
    "        tokenized_sentences = []\n",
    "        for sentence in self.txt:\n",
    "            tokens = word_tokenize(sentence)\n",
    "            tokenized_sentences.append(tokens)\n",
    "        self.txt = tokenized_sentences\n",
    "        #print(self.txt)\n",
    "#*************************************#\n",
    "    def remove_stop_words(self):\n",
    "        stop_words = stopwords.words('english')\n",
    "        filtered_sentences = []\n",
    "        for sentence in self.txt:\n",
    "            filtered_words = []\n",
    "            for word in sentence:\n",
    "                if word.lower() not in stop_words:\n",
    "                    filtered_words.append(word.lower())\n",
    "            filtered_sentences.append(filtered_words)\n",
    "        self.txt = filtered_sentences\n",
    "        #print(self.txt)\n",
    "#*************************************#\n",
    "    def snowball_stemmer(self):\n",
    "        ps = SnowballStemmer(language='english')\n",
    "        snowball_sentences = []\n",
    "        for sentence in self.txt:\n",
    "            snowball_words = []\n",
    "            for word in sentence:\n",
    "                snowball_words.append(ps.stem(word))\n",
    "            snowball_sentences.append(snowball_words)\n",
    "        self.txt = snowball_sentences\n",
    "        #print(self.txt)\n",
    "#*************************************#\n",
    "    def lemmatization(self):\n",
    "        lemmatizer=WordNetLemmatizer()\n",
    "        lemma_sentences = []\n",
    "        for sentence in self.txt:\n",
    "            lemma_words = []\n",
    "            for word in sentence:\n",
    "                lemma_words.append(lemmatizer.lemmatize(word))\n",
    "            lemma_sentences.append(lemma_words)\n",
    "        self.txt = lemma_sentences\n",
    "        #print(self.txt)\n",
    "#*************************************#\n",
    "    def portstemmer_sentence(self):\n",
    "        ps = PorterStemmer()\n",
    "        portstemmer_sentences = []\n",
    "        for sentence in self.txt:\n",
    "            portstemmer_words = []\n",
    "            for word in sentence:\n",
    "                portstemmer_words.append(ps.stem(word))\n",
    "            portstemmer_sentences.append(portstemmer_words)\n",
    "        self.txt = portstemmer_sentences\n",
    "        #print(self.txt)\n",
    "#*************************************#\n",
    "    def preprocessing_end(self):\n",
    "        return self.txt\n",
    "#*************************************#\n",
    "    def return_data(self):\n",
    "        new=[]\n",
    "        for sentences in self.txt:\n",
    "            sentence = ' '.join(sentences)\n",
    "            new.append(sentence)\n",
    "        return new"
   ]
  },
  {
   "cell_type": "code",
   "execution_count": 21,
   "id": "ec8991c4",
   "metadata": {},
   "outputs": [],
   "source": [
    "pre_xtrain=Preprocessing(x_data)#constructor for x_data"
   ]
  },
  {
   "cell_type": "markdown",
   "id": "0f2b444d",
   "metadata": {},
   "source": [
    "## <font color='#3f51b5'>4.1-Remove puntuation </font> "
   ]
  },
  {
   "cell_type": "code",
   "execution_count": 22,
   "id": "18aed381",
   "metadata": {},
   "outputs": [],
   "source": [
    "pre_xtrain.remove_punctuation()"
   ]
  },
  {
   "cell_type": "markdown",
   "id": "75195d6e",
   "metadata": {},
   "source": [
    "## <font color='#3f51b5'>4.2-Word_Tokenization </font>  "
   ]
  },
  {
   "cell_type": "code",
   "execution_count": 23,
   "id": "22a15fd4",
   "metadata": {},
   "outputs": [],
   "source": [
    "pre_xtrain.Word_Tokenization()"
   ]
  },
  {
   "cell_type": "markdown",
   "id": "b1dc964c",
   "metadata": {},
   "source": [
    "## <font color='#3f51b5'>4.3-Remove_stop_words </font>  "
   ]
  },
  {
   "cell_type": "code",
   "execution_count": 24,
   "id": "42524da3",
   "metadata": {},
   "outputs": [],
   "source": [
    "pre_xtrain.remove_stop_words()"
   ]
  },
  {
   "cell_type": "markdown",
   "id": "4e2c317f",
   "metadata": {},
   "source": [
    "## <font color='#3f51b5'>4.4- Porter Stemmer ||Snowball Stemmer || lemmatizer </font>  \n"
   ]
  },
  {
   "cell_type": "code",
   "execution_count": 25,
   "id": "caccd715",
   "metadata": {
    "scrolled": true
   },
   "outputs": [],
   "source": [
    "pre_xtrain.snowball_stemmer()\n",
    "#pre_xtrain.lemmatization()\n",
    "#pre_xtrain.portstemmer_sentence()"
   ]
  },
  {
   "cell_type": "markdown",
   "id": "ad557c91",
   "metadata": {},
   "source": [
    "## <font color='red'>4.5-Final Result</font>"
   ]
  },
  {
   "cell_type": "code",
   "execution_count": 26,
   "id": "a766fcfb",
   "metadata": {},
   "outputs": [
    {
     "name": "stdout",
     "output_type": "stream",
     "text": [
      "[['didnt', 'feel', 'humili'], ['go', 'feel', 'hopeless', 'damn', 'hope', 'around', 'someon', 'care', 'awak'], ['im', 'grab', 'minut', 'post', 'feel', 'greedi', 'wrong'], ['ever', 'feel', 'nostalg', 'fireplac', 'know', 'still', 'properti'], ['feel', 'grouchi']]\n"
     ]
    }
   ],
   "source": [
    "x_data=pre_xtrain.preprocessing_end()\n",
    "print(x_data[0:5])"
   ]
  },
  {
   "cell_type": "markdown",
   "id": "305e38dd",
   "metadata": {},
   "source": [
    "## <font color='#3f51b5'>5.1-Prepare For Vectorization  </font>  "
   ]
  },
  {
   "cell_type": "code",
   "execution_count": 27,
   "id": "433ce6aa",
   "metadata": {},
   "outputs": [
    {
     "name": "stdout",
     "output_type": "stream",
     "text": [
      "['didnt feel humili', 'go feel hopeless damn hope around someon care awak', 'im grab minut post feel greedi wrong', 'ever feel nostalg fireplac know still properti', 'feel grouchi', 'ive feel littl burden late wasnt sure', 'ive take milligram time recommend amount ive fallen asleep lot faster also feel like funni', 'feel confus life teenag jade year old man', 'petrona year feel petrona perform well made huge profit', 'feel romant']\n"
     ]
    }
   ],
   "source": [
    "vector=pre_xtrain.return_data()\n",
    "print(vector[0:10])"
   ]
  },
  {
   "cell_type": "markdown",
   "id": "36b7eae2",
   "metadata": {},
   "source": [
    "##  <font color='#008080'>5.2-TF-IDF(term frequency-inverse document frequency)</font>  "
   ]
  },
  {
   "cell_type": "code",
   "execution_count": 54,
   "id": "07f66bd3",
   "metadata": {},
   "outputs": [
    {
     "name": "stdout",
     "output_type": "stream",
     "text": [
      "(40566, 11422)\n"
     ]
    },
    {
     "data": {
      "text/html": [
       "<div>\n",
       "<style scoped>\n",
       "    .dataframe tbody tr th:only-of-type {\n",
       "        vertical-align: middle;\n",
       "    }\n",
       "\n",
       "    .dataframe tbody tr th {\n",
       "        vertical-align: top;\n",
       "    }\n",
       "\n",
       "    .dataframe thead th {\n",
       "        text-align: right;\n",
       "    }\n",
       "</style>\n",
       "<table border=\"1\" class=\"dataframe\">\n",
       "  <thead>\n",
       "    <tr style=\"text-align: right;\">\n",
       "      <th></th>\n",
       "      <th>aa</th>\n",
       "      <th>aaaaaaand</th>\n",
       "      <th>aaaaand</th>\n",
       "      <th>aaaah</th>\n",
       "      <th>aaaand</th>\n",
       "      <th>aac</th>\n",
       "      <th>aahhh</th>\n",
       "      <th>aaron</th>\n",
       "      <th>ab</th>\n",
       "      <th>abandon</th>\n",
       "      <th>...</th>\n",
       "      <th>zombi</th>\n",
       "      <th>zone</th>\n",
       "      <th>zonisamid</th>\n",
       "      <th>zoo</th>\n",
       "      <th>zoom</th>\n",
       "      <th>zq</th>\n",
       "      <th>zucchini</th>\n",
       "      <th>zum</th>\n",
       "      <th>zumba</th>\n",
       "      <th>zz</th>\n",
       "    </tr>\n",
       "  </thead>\n",
       "  <tbody>\n",
       "    <tr>\n",
       "      <th>0</th>\n",
       "      <td>0.0</td>\n",
       "      <td>0.0</td>\n",
       "      <td>0.0</td>\n",
       "      <td>0.0</td>\n",
       "      <td>0.0</td>\n",
       "      <td>0.0</td>\n",
       "      <td>0.0</td>\n",
       "      <td>0.0</td>\n",
       "      <td>0.0</td>\n",
       "      <td>0.0</td>\n",
       "      <td>...</td>\n",
       "      <td>0.0</td>\n",
       "      <td>0.0</td>\n",
       "      <td>0.0</td>\n",
       "      <td>0.0</td>\n",
       "      <td>0.0</td>\n",
       "      <td>0.0</td>\n",
       "      <td>0.0</td>\n",
       "      <td>0.0</td>\n",
       "      <td>0.0</td>\n",
       "      <td>0.0</td>\n",
       "    </tr>\n",
       "    <tr>\n",
       "      <th>1</th>\n",
       "      <td>0.0</td>\n",
       "      <td>0.0</td>\n",
       "      <td>0.0</td>\n",
       "      <td>0.0</td>\n",
       "      <td>0.0</td>\n",
       "      <td>0.0</td>\n",
       "      <td>0.0</td>\n",
       "      <td>0.0</td>\n",
       "      <td>0.0</td>\n",
       "      <td>0.0</td>\n",
       "      <td>...</td>\n",
       "      <td>0.0</td>\n",
       "      <td>0.0</td>\n",
       "      <td>0.0</td>\n",
       "      <td>0.0</td>\n",
       "      <td>0.0</td>\n",
       "      <td>0.0</td>\n",
       "      <td>0.0</td>\n",
       "      <td>0.0</td>\n",
       "      <td>0.0</td>\n",
       "      <td>0.0</td>\n",
       "    </tr>\n",
       "    <tr>\n",
       "      <th>2</th>\n",
       "      <td>0.0</td>\n",
       "      <td>0.0</td>\n",
       "      <td>0.0</td>\n",
       "      <td>0.0</td>\n",
       "      <td>0.0</td>\n",
       "      <td>0.0</td>\n",
       "      <td>0.0</td>\n",
       "      <td>0.0</td>\n",
       "      <td>0.0</td>\n",
       "      <td>0.0</td>\n",
       "      <td>...</td>\n",
       "      <td>0.0</td>\n",
       "      <td>0.0</td>\n",
       "      <td>0.0</td>\n",
       "      <td>0.0</td>\n",
       "      <td>0.0</td>\n",
       "      <td>0.0</td>\n",
       "      <td>0.0</td>\n",
       "      <td>0.0</td>\n",
       "      <td>0.0</td>\n",
       "      <td>0.0</td>\n",
       "    </tr>\n",
       "    <tr>\n",
       "      <th>3</th>\n",
       "      <td>0.0</td>\n",
       "      <td>0.0</td>\n",
       "      <td>0.0</td>\n",
       "      <td>0.0</td>\n",
       "      <td>0.0</td>\n",
       "      <td>0.0</td>\n",
       "      <td>0.0</td>\n",
       "      <td>0.0</td>\n",
       "      <td>0.0</td>\n",
       "      <td>0.0</td>\n",
       "      <td>...</td>\n",
       "      <td>0.0</td>\n",
       "      <td>0.0</td>\n",
       "      <td>0.0</td>\n",
       "      <td>0.0</td>\n",
       "      <td>0.0</td>\n",
       "      <td>0.0</td>\n",
       "      <td>0.0</td>\n",
       "      <td>0.0</td>\n",
       "      <td>0.0</td>\n",
       "      <td>0.0</td>\n",
       "    </tr>\n",
       "    <tr>\n",
       "      <th>4</th>\n",
       "      <td>0.0</td>\n",
       "      <td>0.0</td>\n",
       "      <td>0.0</td>\n",
       "      <td>0.0</td>\n",
       "      <td>0.0</td>\n",
       "      <td>0.0</td>\n",
       "      <td>0.0</td>\n",
       "      <td>0.0</td>\n",
       "      <td>0.0</td>\n",
       "      <td>0.0</td>\n",
       "      <td>...</td>\n",
       "      <td>0.0</td>\n",
       "      <td>0.0</td>\n",
       "      <td>0.0</td>\n",
       "      <td>0.0</td>\n",
       "      <td>0.0</td>\n",
       "      <td>0.0</td>\n",
       "      <td>0.0</td>\n",
       "      <td>0.0</td>\n",
       "      <td>0.0</td>\n",
       "      <td>0.0</td>\n",
       "    </tr>\n",
       "  </tbody>\n",
       "</table>\n",
       "<p>5 rows × 11422 columns</p>\n",
       "</div>"
      ],
      "text/plain": [
       "    aa  aaaaaaand  aaaaand  aaaah  aaaand  aac  aahhh  aaron   ab  abandon  \\\n",
       "0  0.0        0.0      0.0    0.0     0.0  0.0    0.0    0.0  0.0      0.0   \n",
       "1  0.0        0.0      0.0    0.0     0.0  0.0    0.0    0.0  0.0      0.0   \n",
       "2  0.0        0.0      0.0    0.0     0.0  0.0    0.0    0.0  0.0      0.0   \n",
       "3  0.0        0.0      0.0    0.0     0.0  0.0    0.0    0.0  0.0      0.0   \n",
       "4  0.0        0.0      0.0    0.0     0.0  0.0    0.0    0.0  0.0      0.0   \n",
       "\n",
       "   ...  zombi  zone  zonisamid  zoo  zoom   zq  zucchini  zum  zumba   zz  \n",
       "0  ...    0.0   0.0        0.0  0.0   0.0  0.0       0.0  0.0    0.0  0.0  \n",
       "1  ...    0.0   0.0        0.0  0.0   0.0  0.0       0.0  0.0    0.0  0.0  \n",
       "2  ...    0.0   0.0        0.0  0.0   0.0  0.0       0.0  0.0    0.0  0.0  \n",
       "3  ...    0.0   0.0        0.0  0.0   0.0  0.0       0.0  0.0    0.0  0.0  \n",
       "4  ...    0.0   0.0        0.0  0.0   0.0  0.0       0.0  0.0    0.0  0.0  \n",
       "\n",
       "[5 rows x 11422 columns]"
      ]
     },
     "execution_count": 54,
     "metadata": {},
     "output_type": "execute_result"
    }
   ],
   "source": [
    "tfidf_vec = TfidfVectorizer()\n",
    "tfidf_vec_fit = tfidf_vec.fit(vector)\n",
    "x_data = tfidf_vec.fit_transform(vector)\n",
    "print(x_data.toarray().shape)\n",
    "df = pd.DataFrame(x_data.toarray(),columns=tfidf_vec.get_feature_names_out())\n",
    "df.head()"
   ]
  },
  {
   "cell_type": "code",
   "execution_count": 29,
   "id": "6b25702d",
   "metadata": {},
   "outputs": [
    {
     "name": "stdout",
     "output_type": "stream",
     "text": [
      "[0.8114662661252277, 0.5732287461945851, 0.11371588928977924, 0.0, 0.0, 0.0, 0.0, 0.0, 0.0, 0.0, 0.0, 0.0, 0.0, 0.0, 0.0, 0.0, 0.0, 0.0, 0.0, 0.0]\n",
      "--------------------------------------------------\n",
      "[0.48887407988060483, 0.40915628951998173, 0.408072710114312, 0.32094606652533125, 0.3035293092453665, 0.3005871719354354, 0.28760142912218417, 0.23513337836384274, 0.0598211772868254, 0.0, 0.0, 0.0, 0.0, 0.0, 0.0, 0.0, 0.0, 0.0, 0.0, 0.0]\n",
      "--------------------------------------------------\n",
      "[0.5191830389951653, 0.4441662582857301, 0.4331103393576295, 0.3958091046838655, 0.3770370690512078, 0.2048763506893659, 0.06917097007095833, 0.0, 0.0, 0.0, 0.0, 0.0, 0.0, 0.0, 0.0, 0.0, 0.0, 0.0, 0.0, 0.0]\n",
      "--------------------------------------------------\n",
      "[0.5822538725884356, 0.5497821403254665, 0.36288219022397317, 0.32484655253982675, 0.25315943983945977, 0.23172642480880049, 0.06102803799617669, 0.0, 0.0, 0.0, 0.0, 0.0, 0.0, 0.0, 0.0, 0.0, 0.0, 0.0, 0.0, 0.0]\n",
      "--------------------------------------------------\n",
      "[0.9901931750492491, 0.13970496084923825, 0.0, 0.0, 0.0, 0.0, 0.0, 0.0, 0.0, 0.0, 0.0, 0.0, 0.0, 0.0, 0.0, 0.0, 0.0, 0.0, 0.0, 0.0]\n",
      "--------------------------------------------------\n"
     ]
    }
   ],
   "source": [
    "for i in range(5) : \n",
    "    print(sorted(list(df.iloc[i,:]),reverse=True)[:20])\n",
    "    print('--------------------------------------------------')"
   ]
  },
  {
   "cell_type": "code",
   "execution_count": 30,
   "id": "e3e55e4e",
   "metadata": {},
   "outputs": [],
   "source": [
    "encoding={'anger':0,'sadness':1,'fear':2,'joy':3,'surprise':4,'love':5}\n",
    "y_data=[encoding[x] for x in y_data]"
   ]
  },
  {
   "cell_type": "code",
   "execution_count": 31,
   "id": "865d47a9",
   "metadata": {},
   "outputs": [
    {
     "name": "stdout",
     "output_type": "stream",
     "text": [
      "[1, 1, 0, 5, 0, 1, 4, 2, 3, 5]\n"
     ]
    }
   ],
   "source": [
    "print(y_data[:10])"
   ]
  },
  {
   "cell_type": "code",
   "execution_count": 32,
   "id": "365e2c39",
   "metadata": {},
   "outputs": [
    {
     "data": {
      "text/plain": [
       "(8114, 11422)"
      ]
     },
     "execution_count": 32,
     "metadata": {},
     "output_type": "execute_result"
    }
   ],
   "source": [
    "from sklearn.model_selection import train_test_split\n",
    "\n",
    "data_tfidf_train, data_tfidf_test, label_train, label_test = train_test_split(x_data, y_data, test_size=0.2, random_state=42)\n",
    "data_tfidf_train.shape\n",
    "data_tfidf_test.shape"
   ]
  },
  {
   "cell_type": "code",
   "execution_count": 21,
   "id": "35805230",
   "metadata": {},
   "outputs": [
    {
     "name": "stdout",
     "output_type": "stream",
     "text": [
      "Precision: 0.882 / Recall: 0.882 / Accuracy: 0.882\n",
      "[[1141   30   37   12    9   12]\n",
      " [  52 1026   43   45   34   35]\n",
      " [  17   15 1052   15   51   10]\n",
      " [  35   44   46  891   57  118]\n",
      " [   3   10    8   16 1170    1]\n",
      " [  10   20    6   56    8 1134]]\n",
      "              precision    recall  f1-score   support\n",
      "\n",
      "           0       0.91      0.92      0.91      1241\n",
      "           1       0.90      0.83      0.86      1235\n",
      "           2       0.88      0.91      0.89      1160\n",
      "           3       0.86      0.75      0.80      1191\n",
      "           4       0.88      0.97      0.92      1208\n",
      "           5       0.87      0.92      0.89      1234\n",
      "\n",
      "    accuracy                           0.88      7269\n",
      "   macro avg       0.88      0.88      0.88      7269\n",
      "weighted avg       0.88      0.88      0.88      7269\n",
      "\n"
     ]
    }
   ],
   "source": [
    "spam_detect_model1 = MultinomialNB().fit(data_tfidf_train, label_train)\n",
    "pred_test_MNB = spam_detect_model1.predict(data_tfidf_test)\n",
    "precision = precision_score(label_test, pred_test_MNB, average='weighted')\n",
    "recall = recall_score(label_test, pred_test_MNB, average='weighted')\n",
    "accuracy = accuracy_score(label_test, pred_test_MNB)\n",
    "print('Precision: {} / Recall: {} / Accuracy: {}'.format(round(precision, 3), round(recall, 3), round(accuracy, 3)))\n",
    "print(confusion_matrix(label_test,pred_test_MNB))\n",
    "print (classification_report(label_test, pred_test_MNB))"
   ]
  },
  {
   "cell_type": "code",
   "execution_count": 22,
   "id": "2cb709a8",
   "metadata": {},
   "outputs": [
    {
     "name": "stdout",
     "output_type": "stream",
     "text": [
      "Precision: 0.926 / Recall: 0.925 / Accuracy: 0.925\n",
      "[[1205    8   12    8    1    7]\n",
      " [  55 1054   32   55   10   29]\n",
      " [  11   11 1120    6    8    4]\n",
      " [  35   77   24  920   27  108]\n",
      " [   0    0    3    0 1205    0]\n",
      " [   0    0    2    9    0 1223]]\n",
      "              precision    recall  f1-score   support\n",
      "\n",
      "           0       0.92      0.97      0.95      1241\n",
      "           1       0.92      0.85      0.88      1235\n",
      "           2       0.94      0.97      0.95      1160\n",
      "           3       0.92      0.77      0.84      1191\n",
      "           4       0.96      1.00      0.98      1208\n",
      "           5       0.89      0.99      0.94      1234\n",
      "\n",
      "    accuracy                           0.93      7269\n",
      "   macro avg       0.93      0.93      0.92      7269\n",
      "weighted avg       0.93      0.93      0.92      7269\n",
      "\n"
     ]
    }
   ],
   "source": [
    "spam_detect_model2 = tree.DecisionTreeClassifier().fit(data_tfidf_train, label_train)\n",
    "pred_test_MNB = spam_detect_model2.predict(data_tfidf_test)\n",
    "precision = precision_score(label_test, pred_test_MNB,average='weighted')\n",
    "recall = recall_score(label_test, pred_test_MNB,average='weighted')\n",
    "accuracy = accuracy_score(label_test, pred_test_MNB)\n",
    "print('Precision: {} / Recall: {} / Accuracy: {}'.format(round(precision, 3), round(recall, 3), round(accuracy, 3)))\n",
    "print(confusion_matrix(label_test,pred_test_MNB))\n",
    "print (classification_report(label_test, pred_test_MNB))"
   ]
  },
  {
   "cell_type": "code",
   "execution_count": 23,
   "id": "59847314",
   "metadata": {},
   "outputs": [
    {
     "name": "stdout",
     "output_type": "stream",
     "text": [
      "Precision: 0.939 / Recall: 0.939 / Accuracy: 0.939\n",
      "[[1212   14    5    5    0    5]\n",
      " [  47 1089   23   39    8   29]\n",
      " [   9    7 1123    7   12    2]\n",
      " [  27   42   26  966   24  106]\n",
      " [   0    0    3    0 1205    0]\n",
      " [   0    0    0    7    0 1227]]\n",
      "              precision    recall  f1-score   support\n",
      "\n",
      "           0       0.94      0.98      0.96      1241\n",
      "           1       0.95      0.88      0.91      1235\n",
      "           2       0.95      0.97      0.96      1160\n",
      "           3       0.94      0.81      0.87      1191\n",
      "           4       0.96      1.00      0.98      1208\n",
      "           5       0.90      0.99      0.94      1234\n",
      "\n",
      "    accuracy                           0.94      7269\n",
      "   macro avg       0.94      0.94      0.94      7269\n",
      "weighted avg       0.94      0.94      0.94      7269\n",
      "\n"
     ]
    }
   ],
   "source": [
    "spam_detect_model3 = RandomForestClassifier().fit(data_tfidf_train, label_train)\n",
    "pred_test_MNB = spam_detect_model3.predict(data_tfidf_test)\n",
    "precision = precision_score(label_test, pred_test_MNB,average='weighted')\n",
    "recall = recall_score(label_test, pred_test_MNB,average='weighted')\n",
    "accuracy = accuracy_score(label_test, pred_test_MNB)\n",
    "print('Precision: {} / Recall: {} / Accuracy: {}'.format(round(precision, 3), round(recall, 3), round(accuracy, 3)))\n",
    "print(confusion_matrix(label_test,pred_test_MNB))\n",
    "print (classification_report(label_test, pred_test_MNB))"
   ]
  },
  {
   "cell_type": "code",
   "execution_count": 24,
   "id": "ba9916a0",
   "metadata": {},
   "outputs": [
    {
     "name": "stdout",
     "output_type": "stream",
     "text": [
      "Precision: 0.931 / Recall: 0.931 / Accuracy: 0.931\n",
      "[[1181   24   15   14    2    5]\n",
      " [  40 1101   30   37    8   19]\n",
      " [  16   12 1081    9   38    4]\n",
      " [  16   34   19 1014   19   89]\n",
      " [   0    0    3    7 1198    0]\n",
      " [   1    3    3   35    1 1191]]\n",
      "              precision    recall  f1-score   support\n",
      "\n",
      "           0       0.94      0.95      0.95      1241\n",
      "           1       0.94      0.89      0.91      1235\n",
      "           2       0.94      0.93      0.94      1160\n",
      "           3       0.91      0.85      0.88      1191\n",
      "           4       0.95      0.99      0.97      1208\n",
      "           5       0.91      0.97      0.94      1234\n",
      "\n",
      "    accuracy                           0.93      7269\n",
      "   macro avg       0.93      0.93      0.93      7269\n",
      "weighted avg       0.93      0.93      0.93      7269\n",
      "\n"
     ]
    }
   ],
   "source": [
    "from sklearn.linear_model import LogisticRegression\n",
    "\n",
    "lr_model = LogisticRegression(random_state=42)\n",
    "lr_model.fit(data_tfidf_train, label_train)\n",
    "\n",
    "# Use the trained model to make predictions on the test data\n",
    "pred_test_lr = lr_model.predict(data_tfidf_test)\n",
    "\n",
    "# Evaluate the performance of the model using precision, recall, and accuracy\n",
    "precision = precision_score(label_test, pred_test_lr, average='weighted')\n",
    "recall = recall_score(label_test, pred_test_lr, average='weighted')\n",
    "accuracy = accuracy_score(label_test, pred_test_lr)\n",
    "\n",
    "# Print the evaluation metrics\n",
    "print('Precision: {} / Recall: {} / Accuracy: {}'.format(round(precision, 3), round(recall, 3), round(accuracy, 3)))\n",
    "print(confusion_matrix(label_test, pred_test_lr))\n",
    "print(classification_report(label_test, pred_test_lr))"
   ]
  },
  {
   "cell_type": "code",
   "execution_count": 25,
   "id": "db13174d",
   "metadata": {},
   "outputs": [
    {
     "name": "stdout",
     "output_type": "stream",
     "text": [
      "Precision: 0.954 / Recall: 0.954 / Accuracy: 0.954\n",
      "[[1196   23    4   15    0    3]\n",
      " [  31 1124   17   50    6    7]\n",
      " [   6   11 1120   11    6    6]\n",
      " [  10   34   13 1071   12   51]\n",
      " [   0    0    3    0 1205    0]\n",
      " [   0    1    0   14    0 1219]]\n",
      "              precision    recall  f1-score   support\n",
      "\n",
      "           0       0.96      0.96      0.96      1241\n",
      "           1       0.94      0.91      0.93      1235\n",
      "           2       0.97      0.97      0.97      1160\n",
      "           3       0.92      0.90      0.91      1191\n",
      "           4       0.98      1.00      0.99      1208\n",
      "           5       0.95      0.99      0.97      1234\n",
      "\n",
      "    accuracy                           0.95      7269\n",
      "   macro avg       0.95      0.95      0.95      7269\n",
      "weighted avg       0.95      0.95      0.95      7269\n",
      "\n"
     ]
    }
   ],
   "source": [
    "from sklearn.svm import SVC\n",
    "\n",
    "# Split the data into training and test sets\n",
    "data_tfidf_train, data_tfidf_test, label_train, label_test = train_test_split(x_data, y_data, test_size=0.2, random_state=42)\n",
    "\n",
    "# Train an SVM model on the training data\n",
    "svm_model = SVC(random_state=42)\n",
    "svm_model.fit(data_tfidf_train, label_train)\n",
    "\n",
    "# Use the trained model to make predictions on the test data\n",
    "pred_test_svm = svm_model.predict(data_tfidf_test)\n",
    "\n",
    "# Evaluate the performance of the model using precision, recall, and accuracy\n",
    "precision = precision_score(label_test, pred_test_svm, average='weighted')\n",
    "recall = recall_score(label_test, pred_test_svm, average='weighted')\n",
    "accuracy = accuracy_score(label_test, pred_test_svm)\n",
    "\n",
    "# Print the evaluation metrics\n",
    "print('Precision: {} / Recall: {} / Accuracy: {}'.format(round(precision, 3), round(recall, 3), round(accuracy, 3)))\n",
    "print(confusion_matrix(label_test, pred_test_svm))\n",
    "print(classification_report(label_test, pred_test_svm))"
   ]
  },
  {
   "cell_type": "code",
   "execution_count": 26,
   "id": "ac03bd94",
   "metadata": {},
   "outputs": [
    {
     "name": "stdout",
     "output_type": "stream",
     "text": [
      "Precision: 0.822 / Recall: 0.821 / Accuracy: 0.821\n",
      "[[1074   44   35   23   20   45]\n",
      " [ 104  949   63   34   40   45]\n",
      " [  60   46  965   22   34   33]\n",
      " [  83   63   88  742   58  157]\n",
      " [   6    4    5    6 1187    0]\n",
      " [  42   30   29   64   17 1052]]\n",
      "              precision    recall  f1-score   support\n",
      "\n",
      "           0       0.78      0.87      0.82      1241\n",
      "           1       0.84      0.77      0.80      1235\n",
      "           2       0.81      0.83      0.82      1160\n",
      "           3       0.83      0.62      0.71      1191\n",
      "           4       0.88      0.98      0.93      1208\n",
      "           5       0.79      0.85      0.82      1234\n",
      "\n",
      "    accuracy                           0.82      7269\n",
      "   macro avg       0.82      0.82      0.82      7269\n",
      "weighted avg       0.82      0.82      0.82      7269\n",
      "\n"
     ]
    }
   ],
   "source": [
    "from sklearn.neighbors import KNeighborsClassifier\n",
    "\n",
    "# Split the data into training and test sets\n",
    "data_tfidf_train, data_tfidf_test, label_train, label_test = train_test_split(x_data, y_data, test_size=0.2, random_state=42)\n",
    "\n",
    "# Train a KNN model on the training data\n",
    "knn_model = KNeighborsClassifier()\n",
    "knn_model.fit(data_tfidf_train, label_train)\n",
    "\n",
    "# Use the trained model to make predictions on the test data\n",
    "pred_test_knn = knn_model.predict(data_tfidf_test)\n",
    "\n",
    "# Evaluate the performance of the model using precision, recall, and accuracy\n",
    "precision = precision_score(label_test, pred_test_knn, average='weighted')\n",
    "recall = recall_score(label_test, pred_test_knn, average='weighted')\n",
    "accuracy = accuracy_score(label_test, pred_test_knn)\n",
    "\n",
    "# Print the evaluation metrics\n",
    "print('Precision: {} / Recall: {} / Accuracy: {}'.format(round(precision, 3), round(recall, 3), round(accuracy, 3)))\n",
    "print(confusion_matrix(label_test, pred_test_knn))\n",
    "print(classification_report(label_test, pred_test_knn))"
   ]
  },
  {
   "cell_type": "code",
   "execution_count": 27,
   "id": "3f2adbef",
   "metadata": {},
   "outputs": [
    {
     "name": "stdout",
     "output_type": "stream",
     "text": [
      "Precision: 0.925 / Recall: 0.925 / Accuracy: 0.925\n",
      "[[1198   13   10   12    3    5]\n",
      " [  49 1073   34   42   11   26]\n",
      " [  39    7 1065    4   41    4]\n",
      " [  23   30   21  980   25  112]\n",
      " [   0    0    0    0 1208    0]\n",
      " [   3    6    0   26    2 1197]]\n",
      "              precision    recall  f1-score   support\n",
      "\n",
      "           0       0.91      0.97      0.94      1241\n",
      "           1       0.95      0.87      0.91      1235\n",
      "           2       0.94      0.92      0.93      1160\n",
      "           3       0.92      0.82      0.87      1191\n",
      "           4       0.94      1.00      0.97      1208\n",
      "           5       0.89      0.97      0.93      1234\n",
      "\n",
      "    accuracy                           0.92      7269\n",
      "   macro avg       0.93      0.92      0.92      7269\n",
      "weighted avg       0.93      0.92      0.92      7269\n",
      "\n"
     ]
    }
   ],
   "source": [
    "from xgboost import XGBClassifier\n",
    "\n",
    "# Split the data into training and test sets\n",
    "data_tfidf_train, data_tfidf_test, label_train, label_test = train_test_split(x_data, y_data, test_size=0.2, random_state=42)\n",
    "\n",
    "# Train an XGBClassifier model on the training data\n",
    "xgb_model = XGBClassifier(random_state=42)\n",
    "xgb_model.fit(data_tfidf_train, label_train)\n",
    "\n",
    "# Use the trained model to make predictions on the test data\n",
    "pred_test_xgb = xgb_model.predict(data_tfidf_test)\n",
    "\n",
    "# Evaluate the performance of the model using precision, recall, and accuracy\n",
    "precision = precision_score(label_test, pred_test_xgb, average='weighted')\n",
    "recall = recall_score(label_test, pred_test_xgb, average='weighted')\n",
    "accuracy = accuracy_score(label_test, pred_test_xgb)\n",
    "\n",
    "# Print the evaluation metrics\n",
    "print('Precision: {} / Recall: {} / Accuracy: {}'.format(round(precision, 3), round(recall, 3), round(accuracy, 3)))\n",
    "print(confusion_matrix(label_test, pred_test_xgb))\n",
    "print(classification_report(label_test, pred_test_xgb))"
   ]
  },
  {
   "cell_type": "code",
   "execution_count": 28,
   "id": "23217fe6",
   "metadata": {},
   "outputs": [
    {
     "data": {
      "text/plain": [
       "<AxesSubplot:xlabel='Algorithm', ylabel='Accuracy Score'>"
      ]
     },
     "execution_count": 28,
     "metadata": {},
     "output_type": "execute_result"
    },
    {
     "data": {
      "image/png": "[encoded data removed]",
      "text/plain": [
       "<Figure size 1080x576 with 1 Axes>"
      ]
     },
     "metadata": {},
     "output_type": "display_data"
    }
   ],
   "source": [
    "svm_score = svm_model.score(data_tfidf_test, label_test)\n",
    "knn_score = knn_model.score(data_tfidf_test, label_test)\n",
    "xgb_score = xgb_model.score(data_tfidf_test, label_test)\n",
    "lr_score = lr_model.score(data_tfidf_test, label_test)\n",
    "nb_score = spam_detect_model1.score(data_tfidf_test, label_test)\n",
    "dt_score = spam_detect_model2.score(data_tfidf_test, label_test)\n",
    "rf_score = spam_detect_model3.score(data_tfidf_test, label_test)\n",
    "import pandas as pd\n",
    "import seaborn as sns\n",
    "import matplotlib.pyplot as plt\n",
    "\n",
    "# Create a dataframe with the algorithm names and their scores\n",
    "algorithms = ['nb','dt','rf','Logistic Regression', 'SVM', 'KNN', 'XGBoost']\n",
    "scores = [nb_score,dt_score,rf_score,lr_score,svm_score, knn_score,xgb_score]\n",
    "df = pd.DataFrame({'Algorithm': algorithms, 'Accuracy Score': scores})\n",
    "\n",
    "# Set the figure size and labels\n",
    "sns.set(rc={'figure.figsize':(15,8)})\n",
    "plt.xlabel(\"Algorithms\")\n",
    "plt.ylabel(\"Accuracy Score\")\n",
    "# Create the barplot\n",
    "sns.barplot(x='Algorithm', y='Accuracy Score', data=df)"
   ]
  },
  {
   "cell_type": "code",
   "execution_count": 29,
   "id": "aa03a5b2",
   "metadata": {},
   "outputs": [
    {
     "name": "stdout",
     "output_type": "stream",
     "text": [
      "love\n"
     ]
    }
   ],
   "source": [
    "text = 'i feel like a faithful servant'\n",
    "X = tfidf_vec_fit.transform([text])\n",
    "pred = svm_model.predict(X)\n",
    "if pred[0]==0:\n",
    "    print('anger')\n",
    "elif pred[0]==1:\n",
    "    print('sadness')\n",
    "elif pred[0]==2:\n",
    "    print('fear')\n",
    "elif pred[0]==3:\n",
    "    print('joy')\n",
    "elif pred[0]==4:\n",
    "    print('surprise')\n",
    "elif pred[0]==5:\n",
    "    print('love')"
   ]
  },
  {
   "cell_type": "code",
   "execution_count": 34,
   "id": "6fe32b8b",
   "metadata": {},
   "outputs": [
    {
     "name": "stdout",
     "output_type": "stream",
     "text": [
      "sadness\n"
     ]
    }
   ],
   "source": [
    "text = 'i feel dirty and ashamed for saying that'\n",
    "X = tfidf_vec_fit.transform([text])\n",
    "pred = svm_model.predict(X)\n",
    "if pred[0]==0:\n",
    "    print('anger')\n",
    "elif pred[0]==1:\n",
    "    print('sadness')\n",
    "elif pred[0]==2:\n",
    "    print('fear')\n",
    "elif pred[0]==3:\n",
    "    print('joy')\n",
    "elif pred[0]==4:\n",
    "    print('surprise')\n",
    "elif pred[0]==5:\n",
    "    print('love')"
   ]
  },
  {
   "cell_type": "markdown",
   "id": "8206b756",
   "metadata": {},
   "source": [
    "## <font color='#3f51b5'>RNN </font> "
   ]
  },
  {
   "cell_type": "code",
   "execution_count": 33,
   "id": "71590920",
   "metadata": {},
   "outputs": [],
   "source": [
    "import numpy as np\n",
    "\n",
    "num_features = data_tfidf_train.shape[1]\n",
    "num_timesteps = 1  # Each sample consists of a single timestep\n",
    "\n",
    "# Reshape training data into 3D tensor\n",
    "X_train = np.reshape(data_tfidf_train.toarray(), (data_tfidf_train.shape[0], num_timesteps, num_features))\n",
    "\n",
    "# Reshape testing data into 3D tensor\n",
    "X_test = np.reshape(data_tfidf_test.toarray(), (data_tfidf_test.shape[0], num_timesteps, num_features))"
   ]
  },
  {
   "cell_type": "code",
   "execution_count": 36,
   "id": "b74aad2f",
   "metadata": {},
   "outputs": [
    {
     "data": {
      "text/plain": [
       "(32452, 11422)"
      ]
     },
     "execution_count": 36,
     "metadata": {},
     "output_type": "execute_result"
    }
   ],
   "source": [
    "data_tfidf_train.shape"
   ]
  },
  {
   "cell_type": "code",
   "execution_count": 38,
   "id": "d7e37ad2",
   "metadata": {},
   "outputs": [],
   "source": [
    "label_train = np.array(label_train).tolist()\n",
    "label_test = np.array(label_test).tolist()"
   ]
  },
  {
   "cell_type": "code",
   "execution_count": 40,
   "id": "c99af7f3",
   "metadata": {},
   "outputs": [
    {
     "name": "stdout",
     "output_type": "stream",
     "text": [
      "Epoch 1/5\n",
      "1015/1015 [==============================] - 46s 42ms/step - loss: 0.8273 - accuracy: 0.8242 - val_loss: 0.2546 - val_accuracy: 0.9278\n",
      "Epoch 2/5\n",
      "1015/1015 [==============================] - 40s 39ms/step - loss: 0.1599 - accuracy: 0.9551 - val_loss: 0.1802 - val_accuracy: 0.9452\n",
      "Epoch 3/5\n",
      "1015/1015 [==============================] - 40s 39ms/step - loss: 0.0911 - accuracy: 0.9759 - val_loss: 0.1720 - val_accuracy: 0.9476\n",
      "Epoch 4/5\n",
      "1015/1015 [==============================] - 40s 39ms/step - loss: 0.0644 - accuracy: 0.9838 - val_loss: 0.1796 - val_accuracy: 0.9470\n",
      "Epoch 5/5\n",
      "1015/1015 [==============================] - 37s 37ms/step - loss: 0.0493 - accuracy: 0.9875 - val_loss: 0.1902 - val_accuracy: 0.9463\n"
     ]
    }
   ],
   "source": [
    "from keras.utils import to_categorical\n",
    "\n",
    "# Define RNN model\n",
    "model = Sequential()\n",
    "model.add(LSTM(64, input_shape=(num_timesteps, num_features)))\n",
    "model.add(Dense(6, activation='softmax'))\n",
    "model.compile(loss='sparse_categorical_crossentropy', optimizer='adam', metrics=['accuracy'])\n",
    "\n",
    "# Prepare target labels without one-hot encoding\n",
    "label_train = np.array(label_train)\n",
    "label_test = np.array(label_test)\n",
    "\n",
    "# Train RNN model\n",
    "Model = model.fit(X_train, label_train, validation_data=(X_test, label_test), epochs=5, batch_size=32)"
   ]
  },
  {
   "cell_type": "code",
   "execution_count": 43,
   "id": "2d54f66b",
   "metadata": {},
   "outputs": [],
   "source": [
    "def plot_graphs(history, string):\n",
    "    plt.plot(Model.history[string])\n",
    "    plt.plot(Model.history['val_'+string])\n",
    "    plt.xlabel(\"Epochs\")\n",
    "    plt.ylabel(string)\n",
    "    plt.legend([string, 'val_'+string])\n",
    "    plt.show()"
   ]
  },
  {
   "cell_type": "code",
   "execution_count": 45,
   "id": "5369a521",
   "metadata": {},
   "outputs": [
    {
     "data": {
      "image/png": "[encoded data removed]",
      "text/plain": [
       "<Figure size 640x480 with 1 Axes>"
      ]
     },
     "metadata": {},
     "output_type": "display_data"
    },
    {
     "data": {
      "image/png": "[encoded data removed]",
      "text/plain": [
       "<Figure size 640x480 with 1 Axes>"
      ]
     },
     "metadata": {},
     "output_type": "display_data"
    }
   ],
   "source": [
    "plot_graphs(Model, \"loss\")\n",
    "plot_graphs(Model, \"accuracy\")"
   ]
  },
  {
   "cell_type": "code",
   "execution_count": 46,
   "id": "938b407b",
   "metadata": {},
   "outputs": [
    {
     "name": "stdout",
     "output_type": "stream",
     "text": [
      "254/254 [==============================] - 1s 3ms/step\n"
     ]
    }
   ],
   "source": [
    "# Make predictions on test data\n",
    "y_pred = model.predict(X_test)\n",
    "\n",
    "# Convert predictions to class labels\n",
    "y_pred_labels = np.argmax(y_pred, axis=1)"
   ]
  },
  {
   "cell_type": "code",
   "execution_count": 56,
   "id": "52a5855d",
   "metadata": {},
   "outputs": [],
   "source": [
    "model.save('my_model.h5')\n",
    "#'anger':0,'sadness':1,'fear':2,'joy':3,'surprise':4,'love':5"
   ]
  },
  {
   "cell_type": "code",
   "execution_count": 112,
   "id": "f6598fe2",
   "metadata": {},
   "outputs": [
    {
     "name": "stdout",
     "output_type": "stream",
     "text": [
      "1/1 [==============================] - 0s 17ms/step\n",
      "5\n"
     ]
    }
   ],
   "source": [
    "text = 'ahmed love watching matches'\n",
    "text_vectorized = tfidf_vec.transform([text])\n",
    "X_new = np.reshape(text_vectorized.toarray(), (text_vectorized.shape[0], num_timesteps, num_features))\n",
    "predictions = loaded_model.predict(X_new)\n",
    "print(np.argmax(predictions))"
   ]
  },
  {
   "cell_type": "code",
   "execution_count": 95,
   "id": "9fee9a3f",
   "metadata": {},
   "outputs": [
    {
     "name": "stdout",
     "output_type": "stream",
     "text": [
      "1/1 [==============================] - 0s 17ms/step\n",
      "1\n"
     ]
    }
   ],
   "source": [
    "text = 'i can go from feeling so hopeless to so damned hopeful just from being around someone who cares and is awake'\n",
    "text_vectorized = tfidf_vec.transform([text])\n",
    "X_new = np.reshape(text_vectorized.toarray(), (text_vectorized.shape[0], num_timesteps, num_features))\n",
    "predictions = loaded_model.predict(X_new)\n",
    "print(np.argmax(predictions))"
   ]
  },
  {
   "cell_type": "code",
   "execution_count": 101,
   "id": "0d943eb7",
   "metadata": {},
   "outputs": [
    {
     "name": "stdout",
     "output_type": "stream",
     "text": [
      "1/1 [==============================] - 0s 16ms/step\n",
      "0\n"
     ]
    }
   ],
   "source": [
    "text = 'i don t know why perhaps because other girls in the office had nice short hair or perhaps i was just feeling rebellious'\n",
    "text_vectorized = tfidf_vec.transform([text])\n",
    "X_new = np.reshape(text_vectorized.toarray(), (text_vectorized.shape[0], num_timesteps, num_features))\n",
    "predictions = loaded_model.predict(X_new)\n",
    "print(np.argmax(code[predictions]))"
   ]
  }
 ],
 "metadata": {
  "kernelspec": {
   "display_name": "Python 3 (ipykernel)",
   "language": "python",
   "name": "python3"
  },
  "language_info": {
   "codemirror_mode": {
    "name": "ipython",
    "version": 3
   },
   "file_extension": ".py",
   "mimetype": "text/x-python",
   "name": "python",
   "nbconvert_exporter": "python",
   "pygments_lexer": "ipython3",
   "version": "3.9.16"
  }
 },
 "nbformat": 4,
 "nbformat_minor": 5
}
